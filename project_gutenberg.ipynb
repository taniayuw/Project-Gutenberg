{
 "cells": [
  {
   "cell_type": "code",
   "execution_count": null,
   "id": "cf65e1ef",
   "metadata": {},
   "outputs": [],
   "source": [
    "# Import packages\n",
    "from bs4 import BeautifulSoup as bs\n",
    "import requests as req\n",
    "from pprint import pprint\n",
    "import os\n",
    "import re"
   ]
  },
  {
   "cell_type": "code",
   "execution_count": null,
   "id": "e4d394dc",
   "metadata": {},
   "outputs": [],
   "source": [
    "# Create the folder for the obtained books\n",
    "folderPath = 'project_gutenberg'\n",
    "\n",
    "if not os.path.exists(folderPath):\n",
    "    os.makedirs(folderPath)\n",
    "\n",
    "# Link to the target URL\n",
    "url_booklists = 'https://www.gutenberg.org/browse/languages/zh'\n",
    "\n",
    "res = req.get(url_booklists)\n",
    "\n",
    "soup = bs(res.text, \"lxml\")\n",
    "\n",
    "# Extract data from the HTML of the webpage with beautiful soup selector\n",
    "for a in soup.select('li.pgdbetext a[href]')[0:260]:\n",
    "    # Filterd out the non-Chinese books using the regular expression \n",
    "    English_book_title = re.match(r'[a-zA-Z]+', a.get_text())\n",
    "    if not English_book_title:\n",
    "        Chinese_book_title = re.sub(r'[=\\\\/*?:\"<>|\\r\\n]', '', a.get_text()).strip()\n",
    "        book_title = Chinese_book_title\n",
    "        book_link = 'https://www.gutenberg.org' + a['href']\n",
    "    \n",
    "        book_id = re.search(r'\\d+', book_link)[0]\n",
    "\n",
    "        # link_article: the URL is based on each book's book id\n",
    "        link_article = f'https://www.gutenberg.org/cache/epub/{book_id}/pg{book_id}-images.html'\n",
    "\n",
    "        res_ = req.get(link_article)\n",
    "\n",
    "        soup_ = bs(res_.text,\"lxml\")\n",
    "\n",
    "        soup_.select_one('div.container').decompose()\n",
    "        \n",
    "        if soup_.select_one('p#id00000'):\n",
    "            soup_.select_one('p#id00000').decompose()\n",
    "        \n",
    "    # Concatenating all the contents of one book\n",
    "    content = ''\n",
    "    \n",
    "    for p in soup_.select('p'):\n",
    "        content += p.get_text() + \"\\n\" + \"\\n\"\n",
    "\n",
    "    # Save contents of one book with a .txt file, named with the book title \n",
    "    file_path = os.path.join(folderPath, f\"{book_title}.txt\")\n",
    "    with open(file_path, 'w', encoding='utf-8') as file:\n",
    "        file.write(content)\n",
    "\n",
    "        "
   ]
  }
 ],
 "metadata": {
  "kernelspec": {
   "display_name": "Python 3",
   "language": "python",
   "name": "python3"
  },
  "language_info": {
   "codemirror_mode": {
    "name": "ipython",
    "version": 3
   },
   "file_extension": ".py",
   "mimetype": "text/x-python",
   "name": "python",
   "nbconvert_exporter": "python",
   "pygments_lexer": "ipython3",
   "version": "3.9.6"
  }
 },
 "nbformat": 4,
 "nbformat_minor": 5
}
